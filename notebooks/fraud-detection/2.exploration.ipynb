{
 "cells": [
  {
   "cell_type": "markdown",
   "id": "7dbaa1af-dcda-4460-8756-7b8611ae8302",
   "metadata": {},
   "source": [
    "# Data Exploration"
   ]
  },
  {
   "cell_type": "code",
   "execution_count": 1,
   "id": "98083a88-51f7-43ca-ae56-859f9b6d2870",
   "metadata": {},
   "outputs": [],
   "source": [
    "# TODO\n",
    "# https://github.com/mamurak/os-mlops/blob/main/notebooks/fraud-detection-onnx/data-exploration.ipynb\n",
    "# https://www.kaggle.com/code/janiobachmann/credit-fraud-dealing-with-imbalanced-datasets"
   ]
  }
 ],
 "metadata": {
  "kernelspec": {
   "display_name": "Python 3.9",
   "language": "python",
   "name": "python3"
  },
  "language_info": {
   "codemirror_mode": {
    "name": "ipython",
    "version": 3
   },
   "file_extension": ".py",
   "mimetype": "text/x-python",
   "name": "python",
   "nbconvert_exporter": "python",
   "pygments_lexer": "ipython3",
   "version": "3.9.16"
  }
 },
 "nbformat": 4,
 "nbformat_minor": 5
}
