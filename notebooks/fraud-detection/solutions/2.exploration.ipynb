{
 "cells": [
  {
   "cell_type": "code",
   "execution_count": 1,
   "id": "98083a88-51f7-43ca-ae56-859f9b6d2870",
   "metadata": {},
   "outputs": [],
   "source": [
    "# TODO\n",
    "# https://github.com/mamurak/os-mlops/blob/main/notebooks/fraud-detection-onnx/data-exploration.ipynb\n",
    "# https://www.kaggle.com/code/janiobachmann/credit-fraud-dealing-with-imbalanced-datasets"
   ]
  },
  {
   "cell_type": "code",
   "execution_count": null,
   "id": "278517c8-ac93-4a12-828a-3de87d1bbe17",
   "metadata": {},
   "outputs": [],
   "source": []
  }
 ],
 "metadata": {
  "kernelspec": {
   "display_name": "Python 3.9",
   "language": "python",
   "name": "python3"
  },
  "language_info": {
   "codemirror_mode": {
    "name": "ipython",
    "version": 3
   },
   "file_extension": ".py",
   "mimetype": "text/x-python",
   "name": "python",
   "nbconvert_exporter": "python",
   "pygments_lexer": "ipython3",
   "version": "3.9.16"
  }
 },
 "nbformat": 4,
 "nbformat_minor": 5
}
