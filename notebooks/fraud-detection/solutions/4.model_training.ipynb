{
 "cells": [
  {
   "cell_type": "code",
   "execution_count": 2,
   "id": "e40e8d5c-f870-43df-8968-905f8370c515",
   "metadata": {},
   "outputs": [],
   "source": [
    "from os import environ\n",
    "\n",
    "environ['CUDA_VISIBLE_DEVICES'] = '-1'\n",
    "\n",
    "from keras.models import Sequential\n",
    "from keras.layers.core import Dense\n",
    "from keras.optimizers import Adam\n",
    "from numpy import load\n",
    "from onnx import save\n",
    "from tf2onnx import convert"
   ]
  },
  {
   "cell_type": "code",
   "execution_count": 4,
   "id": "993bd9e1-04af-480a-bd22-c3ba9a23c4d3",
   "metadata": {},
   "outputs": [
    {
     "name": "stdout",
     "output_type": "stream",
     "text": [
      "training model\n",
      "Epoch 1/20\n",
      "1214/1214 - 4s - loss: 0.0819 - accuracy: 0.9674 - val_loss: 0.0390 - val_accuracy: 0.9864 - 4s/epoch - 3ms/step\n",
      "Epoch 2/20\n",
      "1214/1214 - 3s - loss: 0.0169 - accuracy: 0.9956 - val_loss: 0.0110 - val_accuracy: 0.9996 - 3s/epoch - 2ms/step\n",
      "Epoch 3/20\n",
      "1214/1214 - 3s - loss: 0.0084 - accuracy: 0.9983 - val_loss: 0.0065 - val_accuracy: 0.9999 - 3s/epoch - 2ms/step\n",
      "Epoch 4/20\n",
      "1214/1214 - 3s - loss: 0.0057 - accuracy: 0.9989 - val_loss: 0.0025 - val_accuracy: 1.0000 - 3s/epoch - 2ms/step\n",
      "Epoch 5/20\n",
      "1214/1214 - 3s - loss: 0.0043 - accuracy: 0.9991 - val_loss: 0.0029 - val_accuracy: 1.0000 - 3s/epoch - 2ms/step\n",
      "Epoch 6/20\n",
      "1214/1214 - 3s - loss: 0.0035 - accuracy: 0.9993 - val_loss: 0.0016 - val_accuracy: 1.0000 - 3s/epoch - 2ms/step\n",
      "Epoch 7/20\n",
      "1214/1214 - 3s - loss: 0.0028 - accuracy: 0.9994 - val_loss: 0.0019 - val_accuracy: 1.0000 - 3s/epoch - 2ms/step\n",
      "Epoch 8/20\n",
      "1214/1214 - 3s - loss: 0.0025 - accuracy: 0.9995 - val_loss: 0.0017 - val_accuracy: 0.9999 - 3s/epoch - 2ms/step\n",
      "Epoch 9/20\n",
      "1214/1214 - 3s - loss: 0.0023 - accuracy: 0.9995 - val_loss: 9.9837e-04 - val_accuracy: 1.0000 - 3s/epoch - 2ms/step\n",
      "Epoch 10/20\n",
      "1214/1214 - 3s - loss: 0.0019 - accuracy: 0.9996 - val_loss: 0.0021 - val_accuracy: 1.0000 - 3s/epoch - 2ms/step\n",
      "Epoch 11/20\n",
      "1214/1214 - 3s - loss: 0.0018 - accuracy: 0.9996 - val_loss: 6.8897e-04 - val_accuracy: 1.0000 - 3s/epoch - 2ms/step\n",
      "Epoch 12/20\n",
      "1214/1214 - 3s - loss: 0.0015 - accuracy: 0.9997 - val_loss: 3.5398e-04 - val_accuracy: 1.0000 - 3s/epoch - 2ms/step\n",
      "Epoch 13/20\n",
      "1214/1214 - 3s - loss: 0.0017 - accuracy: 0.9996 - val_loss: 3.4898e-04 - val_accuracy: 1.0000 - 3s/epoch - 2ms/step\n",
      "Epoch 14/20\n",
      "1214/1214 - 3s - loss: 0.0014 - accuracy: 0.9997 - val_loss: 0.0012 - val_accuracy: 0.9999 - 3s/epoch - 2ms/step\n",
      "Epoch 15/20\n",
      "1214/1214 - 3s - loss: 0.0013 - accuracy: 0.9997 - val_loss: 4.5649e-04 - val_accuracy: 1.0000 - 3s/epoch - 2ms/step\n",
      "Epoch 16/20\n",
      "1214/1214 - 3s - loss: 0.0013 - accuracy: 0.9997 - val_loss: 3.6168e-04 - val_accuracy: 1.0000 - 3s/epoch - 2ms/step\n",
      "Epoch 17/20\n",
      "1214/1214 - 3s - loss: 0.0011 - accuracy: 0.9997 - val_loss: 1.5784e-04 - val_accuracy: 1.0000 - 3s/epoch - 2ms/step\n",
      "Epoch 18/20\n",
      "1214/1214 - 3s - loss: 0.0014 - accuracy: 0.9997 - val_loss: 4.0824e-04 - val_accuracy: 1.0000 - 3s/epoch - 2ms/step\n",
      "Epoch 19/20\n",
      "1214/1214 - 3s - loss: 0.0012 - accuracy: 0.9998 - val_loss: 5.5610e-04 - val_accuracy: 1.0000 - 3s/epoch - 2ms/step\n",
      "Epoch 20/20\n",
      "1214/1214 - 3s - loss: 9.3665e-04 - accuracy: 0.9998 - val_loss: 1.6607e-04 - val_accuracy: 1.0000 - 3s/epoch - 2ms/step\n"
     ]
    },
    {
     "data": {
      "text/plain": [
       "<keras.callbacks.History at 0x7f2cc6391340>"
      ]
     },
     "execution_count": 4,
     "metadata": {},
     "output_type": "execute_result"
    }
   ],
   "source": [
    "print('training model')\n",
    "\n",
    "epoch_count = int(environ.get('epoch_count', '20'))\n",
    "learning_rate = float(environ.get('learning_rate', '0.001'))\n",
    "\n",
    "Xsm_train = load(f'data/training_samples.npy')\n",
    "ysm_train = load(f'data/training_labels.npy')\n",
    "n_inputs = Xsm_train.shape[1]\n",
    "\n",
    "model = Sequential([\n",
    "    Dense(n_inputs, input_shape=(n_inputs, ), activation='relu'),\n",
    "    Dense(32, activation='relu'),\n",
    "    Dense(2, activation='softmax'),\n",
    "])\n",
    "model.compile(\n",
    "    Adam(learning_rate=learning_rate),\n",
    "    loss='sparse_categorical_crossentropy',\n",
    "    metrics=['accuracy'],\n",
    ")\n",
    "model.fit(\n",
    "    Xsm_train,\n",
    "    ysm_train,\n",
    "    validation_split=0.2,\n",
    "    batch_size=300,\n",
    "    epochs=epoch_count,\n",
    "    shuffle=True,\n",
    "    verbose=2,\n",
    ")"
   ]
  },
  {
   "cell_type": "markdown",
   "id": "16cf108f-c4b7-4113-95a8-401105e7d09e",
   "metadata": {},
   "source": [
    "# Export the model to ONNX"
   ]
  },
  {
   "cell_type": "code",
   "execution_count": 6,
   "id": "e70bb8cc-c9e8-4fcc-9cd7-9e5d288b564e",
   "metadata": {},
   "outputs": [],
   "source": [
    "model, _ = convert.from_keras(model)\n",
    "save(model, 'model.onnx')"
   ]
  }
 ],
 "metadata": {
  "kernelspec": {
   "display_name": "Python 3.9",
   "language": "python",
   "name": "python3"
  },
  "language_info": {
   "codemirror_mode": {
    "name": "ipython",
    "version": 3
   },
   "file_extension": ".py",
   "mimetype": "text/x-python",
   "name": "python",
   "nbconvert_exporter": "python",
   "pygments_lexer": "ipython3",
   "version": "3.9.16"
  }
 },
 "nbformat": 4,
 "nbformat_minor": 5
}
